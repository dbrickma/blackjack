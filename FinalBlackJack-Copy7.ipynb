{
 "cells": [
  {
   "cell_type": "code",
   "execution_count": 1,
   "metadata": {
    "collapsed": true
   },
   "outputs": [],
   "source": [
    "class PointTotals(object):  \n",
    "    def __init__(self, bust = 22): \n",
    "        self.total = 0\n",
    "        self.bust = bust \n",
    "    \n",
    "    def addp(self, p1sum): \n",
    "        self.total += sum(p1sum)\n",
    "        print(self.total)\n",
    "        if self.total == 21: \n",
    "            print(\"You win Black Jack!\")\n",
    "        if self.total >= self.bust:\n",
    "            print(\"Sorry, you lost Black Jack.\") \n",
    "            return self.total\n",
    "            self.total = self.total - self.total\n",
    "        while self.total >= self.bust:\n",
    "            print(\"Sorry, you lost Black Jack.\") \n",
    "            return self.total\n",
    "            self.total = self.total - self.total\n",
    "            \n",
    "            \n",
    "          \n",
    "            \n",
    "       \n",
    "            \n",
    "       "
   ]
  },
  {
   "cell_type": "code",
   "execution_count": 2,
   "metadata": {
    "collapsed": false
   },
   "outputs": [],
   "source": [
    "a = PointTotals()"
   ]
  },
  {
   "cell_type": "code",
   "execution_count": 3,
   "metadata": {
    "collapsed": true
   },
   "outputs": [],
   "source": [
    "def reset():  \n",
    "    global p1sum \n",
    "    p1sum = [0]\n",
    "    p2sum = [0]"
   ]
  },
  {
   "cell_type": "code",
   "execution_count": 33,
   "metadata": {
    "collapsed": false
   },
   "outputs": [
    {
     "name": "stdout",
     "output_type": "stream",
     "text": [
      "Hit or stay?: hit\n",
      "4_of_clubs.png\n",
      "your hand is\n",
      "['4_of_clubs.png']\n",
      "4\n"
     ]
    }
   ],
   "source": [
    "BlackJack()"
   ]
  },
  {
   "cell_type": "code",
   "execution_count": 4,
   "metadata": {
    "collapsed": true
   },
   "outputs": [],
   "source": [
    "path = '/Users/danielbrickman/Downloads/PlayingCards/PNG-cards-1.3'"
   ]
  },
  {
   "cell_type": "code",
   "execution_count": 5,
   "metadata": {
    "collapsed": true
   },
   "outputs": [],
   "source": [
    "import random "
   ]
  },
  {
   "cell_type": "code",
   "execution_count": 6,
   "metadata": {
    "collapsed": true
   },
   "outputs": [],
   "source": [
    "import xlrd "
   ]
  },
  {
   "cell_type": "code",
   "execution_count": 7,
   "metadata": {
    "collapsed": true
   },
   "outputs": [],
   "source": [
    "from PIL import Image "
   ]
  },
  {
   "cell_type": "code",
   "execution_count": 8,
   "metadata": {
    "collapsed": true
   },
   "outputs": [],
   "source": [
    "p1 = []\n",
    "def ranc(): \n",
    "    random_filename = random.choice([\n",
    "        x for x in os.listdir(path)\n",
    "        if os.path.isfile(os.path.join(path, x))])\n",
    "    Image.open(random_filename).show()\n",
    "    p1.append(random_filename)\n",
    "    print(random_filename)\n",
    "    print(\"your hand is\")\n",
    "    print(p1)\n",
    "    return(p1)"
   ]
  },
  {
   "cell_type": "code",
   "execution_count": 9,
   "metadata": {
    "collapsed": false
   },
   "outputs": [],
   "source": [
    "p1 = []\n",
    "p1sum = [0]\n",
    "reset()\n",
    "def hand1():\n",
    "    global p1 \n",
    "    global p1sum\n",
    "    for x in p1:\n",
    "        p1sum = [0]\n",
    "        p1 = []\n",
    "        while x[0] == \"k\":\n",
    "            p1sum += [10]\n",
    "            break\n",
    "        while x[0] == \"q\":\n",
    "            p1sum += [10]\n",
    "            break\n",
    "        while x[0] == \"a\": \n",
    "            p1sum += [11]\n",
    "            break \n",
    "        while x[0] == \"j\":\n",
    "            p1sum += [10]\n",
    "            break             \n",
    "        while x[0] == \"1\":\n",
    "            p1sum += [10]\n",
    "            break \n",
    "        while x[0] == \"9\":\n",
    "            p1sum += [9]\n",
    "            break \n",
    "        while x[0] == \"8\":\n",
    "            p1sum += [8]\n",
    "            break \n",
    "        while x[0] == \"7\":\n",
    "            p1sum += [7]\n",
    "            break \n",
    "        while x[0] == \"6\":\n",
    "            p1sum += [6]\n",
    "            break \n",
    "        while x[0] == \"5\":\n",
    "            p1sum += [5]\n",
    "            break \n",
    "        while x[0] == \"4\":\n",
    "            p1sum += [4]\n",
    "            break \n",
    "        while x[0] == \"3\":\n",
    "            p1sum += [3]\n",
    "            break \n",
    "        while x[0] == \"2\":\n",
    "            p1sum += [2]\n",
    "            break \n",
    "    return sum(p1sum)\n",
    "\n",
    "\n",
    "       \n",
    "        \n",
    "        "
   ]
  },
  {
   "cell_type": "code",
   "execution_count": 10,
   "metadata": {
    "collapsed": false
   },
   "outputs": [],
   "source": [
    "def gamereset(): \n",
    "    global p1\n",
    "    global p1sum  \n",
    "    p1 = []\n",
    "    p1sum = [0]\n",
    "    "
   ]
  },
  {
   "cell_type": "code",
   "execution_count": 11,
   "metadata": {
    "collapsed": false
   },
   "outputs": [],
   "source": [
    "import os "
   ]
  },
  {
   "cell_type": "code",
   "execution_count": 12,
   "metadata": {
    "collapsed": true
   },
   "outputs": [],
   "source": [
    "import sys"
   ]
  },
  {
   "cell_type": "code",
   "execution_count": 13,
   "metadata": {
    "collapsed": true
   },
   "outputs": [],
   "source": [
    "os.chdir('/Users/danielbrickman/Downloads/PlayingCards/PNG-cards-1.3')"
   ]
  },
  {
   "cell_type": "code",
   "execution_count": 14,
   "metadata": {
    "collapsed": false
   },
   "outputs": [],
   "source": [
    "def BlackJack(prompt = 'Hit or stay?: '):\n",
    "    hand1()\n",
    "    while True:\n",
    "        try:\n",
    "            i = input(prompt)\n",
    "        except KeyboardInterrupt:\n",
    "            return False\n",
    "        if i.lower() in ('hit','h'):\n",
    "            return ranc() and hand1() and a.addp(p1sum)\n",
    "        elif i.lower() in ('stay','s'): \n",
    "            return dealer() \n",
    "\n",
    "    \n",
    "        \n",
    "\n",
    "        \n",
    "           \n",
    "   \n"
   ]
  },
  {
   "cell_type": "code",
   "execution_count": 17,
   "metadata": {
    "collapsed": true
   },
   "outputs": [],
   "source": [
    "path = '/Users/danielbrickman/Downloads/PlayingCards/PNG-cards-1.3'"
   ]
  },
  {
   "cell_type": "code",
   "execution_count": 20,
   "metadata": {
    "collapsed": false
   },
   "outputs": [],
   "source": [
    "gamereset()"
   ]
  },
  {
   "cell_type": "code",
   "execution_count": 21,
   "metadata": {
    "collapsed": false
   },
   "outputs": [
    {
     "name": "stdout",
     "output_type": "stream",
     "text": [
      "Hit or stay?: hit\n",
      "queen_of_spades2.png\n",
      "your hand is\n",
      "['queen_of_spades2.png']\n",
      "10\n"
     ]
    }
   ],
   "source": [
    "BlackJack()"
   ]
  },
  {
   "cell_type": "code",
   "execution_count": 15,
   "metadata": {
    "collapsed": false
   },
   "outputs": [],
   "source": [
    "def dealer(): \n",
    "    y = random.choice(range(12,22)) or random.choice(range(14,22)) or random.choice(range(8,32))\n",
    "    print(y)  \n",
    "    if y >= 22: \n",
    "        print(\"Dealer bust!\")\n",
    "        print(y)\n",
    "    if sum(p1sum) > y and sum(p1sum) < 22: \n",
    "        print(y)\n",
    "        print(sum(p1sum))\n",
    "        print(\"Player 1 wins!\")\n",
    "    if sum(p1sum) > 21: \n",
    "        print(y)\n",
    "        print(sum(p1sum))\n",
    "        print(\"oops. Dealer wins.\")\n",
    "    if y == 21:\n",
    "        print(y)\n",
    "        print(\"Dealer wins!\")\n",
    "    else: \n",
    "        print(\"Player 1 wins!\") \n",
    "  \n",
    "\n",
    "\n",
    "    "
   ]
  },
  {
   "cell_type": "code",
   "execution_count": 16,
   "metadata": {
    "collapsed": false
   },
   "outputs": [],
   "source": [
    "a = PointTotals()"
   ]
  },
  {
   "cell_type": "code",
   "execution_count": 17,
   "metadata": {
    "collapsed": true
   },
   "outputs": [],
   "source": [
    "gamereset()"
   ]
  },
  {
   "cell_type": "code",
   "execution_count": 18,
   "metadata": {
    "collapsed": false
   },
   "outputs": [
    {
     "name": "stdout",
     "output_type": "stream",
     "text": [
      "Hit or stay?: hit\n",
      "10_of_hearts.png\n",
      "your hand is\n",
      "['10_of_hearts.png']\n",
      "10\n"
     ]
    }
   ],
   "source": [
    "BlackJack()"
   ]
  },
  {
   "cell_type": "code",
   "execution_count": 19,
   "metadata": {
    "collapsed": false
   },
   "outputs": [
    {
     "name": "stdout",
     "output_type": "stream",
     "text": [
      "Hit or stay?: hit\n",
      "9_of_clubs.png\n",
      "your hand is\n",
      "['9_of_clubs.png']\n",
      "19\n"
     ]
    }
   ],
   "source": [
    "BlackJack()"
   ]
  },
  {
   "cell_type": "code",
   "execution_count": 20,
   "metadata": {
    "collapsed": false
   },
   "outputs": [
    {
     "name": "stdout",
     "output_type": "stream",
     "text": [
      "Hit or stay?: stay\n",
      "16\n",
      "Player 1 wins!\n"
     ]
    }
   ],
   "source": [
    "BlackJack()"
   ]
  },
  {
   "cell_type": "code",
   "execution_count": null,
   "metadata": {
    "collapsed": true
   },
   "outputs": [],
   "source": []
  }
 ],
 "metadata": {
  "anaconda-cloud": {},
  "kernelspec": {
   "display_name": "Python [Root]",
   "language": "python",
   "name": "Python [Root]"
  },
  "language_info": {
   "codemirror_mode": {
    "name": "ipython",
    "version": 3
   },
   "file_extension": ".py",
   "mimetype": "text/x-python",
   "name": "python",
   "nbconvert_exporter": "python",
   "pygments_lexer": "ipython3",
   "version": "3.5.2"
  }
 },
 "nbformat": 4,
 "nbformat_minor": 0
}
